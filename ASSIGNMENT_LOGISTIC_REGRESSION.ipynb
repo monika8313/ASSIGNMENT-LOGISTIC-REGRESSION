{
  "nbformat": 4,
  "nbformat_minor": 0,
  "metadata": {
    "colab": {
      "provenance": []
    },
    "kernelspec": {
      "name": "python3",
      "display_name": "Python 3"
    },
    "language_info": {
      "name": "python"
    }
  },
  "cells": [
    {
      "cell_type": "markdown",
      "source": [
        "**Question 1: What is Logistic Regression, and how does it differ from Linear Regression?**\n",
        "\n",
        "ANSWER: Logistic Regression is a statistical method used for binary classification problems, where the outcome variable is categorical with two possible values (e.g., success/failure, yes/no, 0/1). It models the probability that a given input belongs to a particular category.\n",
        "\n",
        "\n",
        "Key Characteristics of Logistic Regression:\n",
        "\n",
        "• \tOutput: Predicts probabilities between 0 and 1, which are then mapped to binary outcomes.\n",
        "\n",
        "• \tFunction Used: Applies the logistic (sigmoid) function to the linear combination of input features:\n",
        "\n",
        "• \tLoss Function: Uses log-loss (cross-entropy) to optimize model parameters.\n",
        "\n",
        "• \tInterpretation: Coefficients represent the log odds of the outcome.\n",
        "\n",
        "\n",
        "\n",
        "How It Differs from Linear Regression:\n",
        "\n",
        "• \tPurpose: Linear Regression is used to predict continuous values, while Logistic Regression is used to predict probabilities for classification tasks.\n",
        "\n",
        "• \tOutput Range: Linear Regression outputs any real number, whereas Logistic Regression outputs values between 0 and 1.\n",
        "\n",
        "• \tFunction Used: Linear Regression uses a linear function. Logistic Regression uses the sigmoid (logistic) function.\n",
        "\n",
        "• \tLoss Function: Linear Regression minimizes Mean Squared Error. Logistic Regression minimizes log-loss (also known as cross-entropy).\n",
        "\n",
        "• \tAssumptions: Linear Regression assumes linearity, homoscedasticity, and normally distributed errors. Logistic Regression assumes linearity in the log-odds and independence of errors.\n",
        "\n",
        "• \tUse Case: Linear Regression is suitable for regression problems. Logistic Regression is suitable for classification problems."
      ],
      "metadata": {
        "id": "3T3XINB6ESUD"
      }
    },
    {
      "cell_type": "markdown",
      "source": [
        "**Question 2: Explain the role of the Sigmoid function in Logistic Regression.**\n",
        "\n",
        "ANSWER:  The sigmoid function plays a central role in logistic regression by transforming the linear combination of input features into a probability value between 0 and 1. This transformation enables logistic regression to perform binary classification.\n",
        "\n",
        "Mathematical Form:\n",
        "\n",
        "The sigmoid function is defined as:\n",
        "\n",
        "\\sigma(z) = \\frac{1}{1 + e^{-z}}\n",
        "where z = \\beta_0 + \\beta_1X_1 + \\beta_2X_2 + \\dots + \\beta_nX_n\n",
        "\n",
        "\n",
        "Role in Logistic Regression:\n",
        "\n",
        "1. \tProbability Mapping: It converts the linear output z into a probability score. This score represents the likelihood that the input belongs to the positive class (typically labeled as 1).\n",
        "\n",
        "2. \tDecision Boundary: The output of the sigmoid function is interpreted as:\n",
        "• \tIf \\sigma(z) \\geq 0.5, predict class 1\n",
        "• \tIf \\sigma(z) < 0.5, predict class 0\n",
        "\n",
        "3. \tGradient-Based Optimization: The smooth, differentiable nature of the sigmoid function allows the use of gradient descent to optimize the model parameters during training.\n",
        "\n",
        "4. \tLog-Odds Interpretation: The inverse of the sigmoid function relates to the log-odds, which is the foundation of logistic regression’s probabilistic interpretation.\n",
        "\n",
        "In summary, the sigmoid function enables logistic regression to model the probability of a binary outcome in a mathematically tractable and interpretable way."
      ],
      "metadata": {
        "id": "uja6REARFGKn"
      }
    },
    {
      "cell_type": "markdown",
      "source": [
        "**Question 3: What is Regularization in Logistic Regression and why is it needed?**\n",
        "\n",
        "ANSWER: Regularization in logistic regression is a technique used to prevent overfitting by penalizing large or unnecessary coefficients in the model. It introduces a penalty term to the loss function, discouraging the model from fitting noise in the training data.\n",
        "\n",
        "\n",
        "Why It Is Needed:\n",
        "\n",
        "1. \tOverfitting Prevention: Without regularization, logistic regression may assign large weights to features that only coincidentally correlate with the target in the training set. This leads to poor generalization on unseen data.\n",
        "\n",
        "2. \tModel Simplicity: Regularization encourages simpler models by shrinking less important feature coefficients toward zero.\n",
        "\n",
        "3. \tFeature Selection: In some cases (especially with L1 regularization), it can effectively eliminate irrelevant features by setting their coefficients to zero.\n",
        "\n",
        "\n",
        "\n",
        "Types of Regularization:\n",
        "\n",
        "• \tL1 Regularization (Lasso): Adds the absolute value of coefficients to the loss function. Encourages sparsity, meaning some coefficients become exactly zero.\n",
        "\n",
        "• \tL2 Regularization (Ridge): Adds the squared value of coefficients to the loss function. Encourages small, distributed weights.\n",
        "\n",
        "Here, \\lambda is the regularization strength. A higher \\lambda increases the penalty, leading to more regularization.\n",
        "\n",
        "In practice, regularization is essential when dealing with high-dimensional data or when the number of features exceeds the number of observations. It helps maintain model robustness and interpretability."
      ],
      "metadata": {
        "id": "7U8QB-oWFfip"
      }
    },
    {
      "cell_type": "markdown",
      "source": [
        "**Question 4: What are some common evaluation metrics for classification models, and why are they important?**\n",
        "\n",
        "ANSWER: Common evaluation metrics for classification models help assess how well a model distinguishes between classes. Each metric offers a different perspective on performance, especially in cases of class imbalance or varying costs of false predictions.\n",
        "\n",
        "\n",
        "Key Metrics and Their Importance:\n",
        "\n",
        "1. \tAccuracy:\n",
        "\n",
        "• \tDefinition: Ratio of correctly predicted observations to total observations.\n",
        "\n",
        "• \tImportance: Useful when classes are balanced, but misleading if one class dominates.\n",
        "\n",
        "\n",
        "2. \tPrecision:\n",
        "\n",
        "• \tDefinition: Ratio of true positives to all predicted positives.\n",
        "\n",
        "• \tImportance: Measures exactness. High precision means fewer false positives.\n",
        "\n",
        "\n",
        "3. \tRecall (Sensitivity or True Positive Rate):\n",
        "\n",
        "• \tDefinition: Ratio of true positives to all actual positives.\n",
        "\n",
        "• \tImportance: Measures completeness. High recall means fewer false negatives.\n",
        "\n",
        "\n",
        "4. \tF1 Score:\n",
        "\n",
        "• \tDefinition: Harmonic mean of precision and recall.\n",
        "\n",
        "• \tImportance: Balances precision and recall, especially useful when classes are imbalanced.\n",
        "\n",
        "\n",
        "5. \tConfusion Matrix:\n",
        "\n",
        "• \tDefinition: A table showing true positives, false positives, true negatives, and false negatives.\n",
        "\n",
        "• \tImportance: Provides a detailed breakdown of prediction outcomes.\n",
        "\n",
        "\n",
        "6. \tROC Curve and AUC (Area Under Curve):\n",
        "\n",
        "• \tDefinition: ROC plots true positive rate vs. false positive rate; AUC quantifies the overall ability to discriminate between classes.\n",
        "\n",
        "• \tImportance: Useful for comparing models across different thresholds.\n",
        "\n",
        "\n",
        "7. \tLog Loss (Cross-Entropy Loss):\n",
        "\n",
        "• \tDefinition: Measures the uncertainty of predictions based on probability estimates.\n",
        "\n",
        "• \tImportance: Penalizes confident but wrong predictions more heavily.\n",
        "\n",
        "\n",
        "These metrics are essential for selecting, tuning, and validating classification models. They guide decisions based on the specific goals and constraints of the problem, such as minimizing false alarms or maximizing detection rates."
      ],
      "metadata": {
        "id": "ibBdVj3mFwsp"
      }
    },
    {
      "cell_type": "markdown",
      "source": [
        "**Question 5: Write a Python program that loads a CSV file into a Pandas DataFrame, splits into train/test sets, trains a Logistic Regression model, and prints its accuracy. (Use Dataset from sklearn package)**\n",
        "\n",
        "ANSWER:\n"
      ],
      "metadata": {
        "id": "8_Ujv1MaGpqC"
      }
    },
    {
      "cell_type": "code",
      "execution_count": 1,
      "metadata": {
        "colab": {
          "base_uri": "https://localhost:8080/"
        },
        "id": "kOInYg6KEGn9",
        "outputId": "c029c590-df86-4155-dd89-f4fd05588135"
      },
      "outputs": [
        {
          "output_type": "stream",
          "name": "stdout",
          "text": [
            "Model Accuracy: 0.9561\n"
          ]
        }
      ],
      "source": [
        "import pandas as pd\n",
        "from sklearn.datasets import load_breast_cancer\n",
        "from sklearn.model_selection import train_test_split\n",
        "from sklearn.linear_model import LogisticRegression\n",
        "from sklearn.metrics import accuracy_score\n",
        "\n",
        "# Load dataset from sklearn\n",
        "data = load_breast_cancer()\n",
        "X = pd.DataFrame(data.data, columns=data.feature_names)\n",
        "y = pd.Series(data.target)\n",
        "\n",
        "# Split into training and testing sets\n",
        "X_train, X_test, y_train, y_test = train_test_split(X, y, test_size=0.2, random_state=42)\n",
        "\n",
        "# Initialize and train logistic regression model\n",
        "model = LogisticRegression(max_iter=10000)\n",
        "model.fit(X_train, y_train)\n",
        "\n",
        "# Predict and evaluate accuracy\n",
        "y_pred = model.predict(X_test)\n",
        "accuracy = accuracy_score(y_test, y_pred)\n",
        "\n",
        "print(f\"Model Accuracy: {accuracy:.4f}\")"
      ]
    },
    {
      "cell_type": "markdown",
      "source": [
        "This code:\n",
        "\n",
        "• \tLoads the breast cancer dataset\n",
        "\n",
        "• \tConverts it into a Pandas DataFrame\n",
        "\n",
        "• \tSplits the data into training and testing sets\n",
        "\n",
        "• \tTrains a logistic regression model\n",
        "\n",
        "• \tPrints the accuracy of predictions on the test set\n"
      ],
      "metadata": {
        "id": "OcuFGxjvHAmO"
      }
    },
    {
      "cell_type": "markdown",
      "source": [
        "**Question 6: Write a Python program to train a Logistic Regression model using L2 regularization (Ridge) and print the model coefficients and accuracy.\n",
        "(Use Dataset from sklearn package)**\n",
        "\n",
        "ANSWER:\n"
      ],
      "metadata": {
        "id": "wmcPxjBuHFW5"
      }
    },
    {
      "cell_type": "code",
      "source": [
        "import pandas as pd\n",
        "from sklearn.datasets import load_breast_cancer\n",
        "from sklearn.model_selection import train_test_split\n",
        "from sklearn.linear_model import LogisticRegression\n",
        "from sklearn.metrics import accuracy_score\n",
        "\n",
        "# Load dataset\n",
        "data = load_breast_cancer()\n",
        "X = pd.DataFrame(data.data, columns=data.feature_names)\n",
        "y = pd.Series(data.target)\n",
        "\n",
        "# Split into training and testing sets\n",
        "X_train, X_test, y_train, y_test = train_test_split(X, y, test_size=0.2, random_state=42)\n",
        "\n",
        "# Train Logistic Regression with L2 regularization (default)\n",
        "model = LogisticRegression(penalty='l2', solver='liblinear', max_iter=1000)\n",
        "model.fit(X_train, y_train)\n",
        "\n",
        "# Predict and evaluate\n",
        "y_pred = model.predict(X_test)\n",
        "accuracy = accuracy_score(y_test, y_pred)\n",
        "\n",
        "# Output results\n",
        "print(\"Model Coefficients:\")\n",
        "for feature, coef in zip(X.columns, model.coef_[0]):\n",
        "    print(f\"{feature}: {coef:.4f}\")\n",
        "\n",
        "print(f\"\\nModel Accuracy: {accuracy:.4f}\")"
      ],
      "metadata": {
        "colab": {
          "base_uri": "https://localhost:8080/"
        },
        "id": "DWcRlr9CHEsU",
        "outputId": "c9c74581-87e0-40f1-e8be-2e4581bfda4f"
      },
      "execution_count": 2,
      "outputs": [
        {
          "output_type": "stream",
          "name": "stdout",
          "text": [
            "Model Coefficients:\n",
            "mean radius: 2.1325\n",
            "mean texture: 0.1528\n",
            "mean perimeter: -0.1451\n",
            "mean area: -0.0008\n",
            "mean smoothness: -0.1426\n",
            "mean compactness: -0.4156\n",
            "mean concavity: -0.6519\n",
            "mean concave points: -0.3445\n",
            "mean symmetry: -0.2076\n",
            "mean fractal dimension: -0.0298\n",
            "radius error: -0.0500\n",
            "texture error: 1.4430\n",
            "perimeter error: -0.3039\n",
            "area error: -0.0726\n",
            "smoothness error: -0.0162\n",
            "compactness error: -0.0019\n",
            "concavity error: -0.0449\n",
            "concave points error: -0.0377\n",
            "symmetry error: -0.0418\n",
            "fractal dimension error: 0.0056\n",
            "worst radius: 1.2321\n",
            "worst texture: -0.4046\n",
            "worst perimeter: -0.0362\n",
            "worst area: -0.0271\n",
            "worst smoothness: -0.2626\n",
            "worst compactness: -1.2090\n",
            "worst concavity: -1.6180\n",
            "worst concave points: -0.6153\n",
            "worst symmetry: -0.7428\n",
            "worst fractal dimension: -0.1170\n",
            "\n",
            "Model Accuracy: 0.9561\n"
          ]
        }
      ]
    },
    {
      "cell_type": "markdown",
      "source": [
        "This script:\n",
        "\n",
        "• \tUses the breast cancer dataset from\n",
        "\n",
        "• \tApplies L2 regularization (which is the default in )\n",
        "\n",
        "• \tPrints each feature's coefficient\n",
        "\n",
        "• \tReports the model's accuracy on the test set"
      ],
      "metadata": {
        "id": "wLKnLQw6HXyV"
      }
    },
    {
      "cell_type": "markdown",
      "source": [
        "**Question 7: Write a Python program to train a Logistic Regression model for multiclass classification using multi_class='ovr' and print the classification report.(Use Dataset from sklearn package)**\n",
        "\n",
        "ANSWER:"
      ],
      "metadata": {
        "id": "rYCt5IHRHbfL"
      }
    },
    {
      "cell_type": "code",
      "source": [
        "import pandas as pd\n",
        "from sklearn.datasets import load_iris\n",
        "from sklearn.model_selection import train_test_split\n",
        "from sklearn.linear_model import LogisticRegression\n",
        "from sklearn.metrics import classification_report\n",
        "\n",
        "# Load multiclass dataset\n",
        "data = load_iris()\n",
        "X = pd.DataFrame(data.data, columns=data.feature_names)\n",
        "y = pd.Series(data.target)\n",
        "\n",
        "# Split into training and testing sets\n",
        "X_train, X_test, y_train, y_test = train_test_split(X, y, test_size=0.2, random_state=42)\n",
        "\n",
        "# Train Logistic Regression with One-vs-Rest strategy\n",
        "model = LogisticRegression(multi_class='ovr', solver='liblinear', max_iter=1000)\n",
        "model.fit(X_train, y_train)\n",
        "\n",
        "# Predict and evaluate\n",
        "y_pred = model.predict(X_test)\n",
        "report = classification_report(y_test, y_pred, target_names=data.target_names)\n",
        "\n",
        "print(\"Classification Report:\")\n",
        "print(report)"
      ],
      "metadata": {
        "colab": {
          "base_uri": "https://localhost:8080/"
        },
        "id": "vEW5jCVmHayc",
        "outputId": "3c0dd33c-ac20-4bf1-97cf-7fe8ec724b9d"
      },
      "execution_count": 3,
      "outputs": [
        {
          "output_type": "stream",
          "name": "stdout",
          "text": [
            "Classification Report:\n",
            "              precision    recall  f1-score   support\n",
            "\n",
            "      setosa       1.00      1.00      1.00        10\n",
            "  versicolor       1.00      1.00      1.00         9\n",
            "   virginica       1.00      1.00      1.00        11\n",
            "\n",
            "    accuracy                           1.00        30\n",
            "   macro avg       1.00      1.00      1.00        30\n",
            "weighted avg       1.00      1.00      1.00        30\n",
            "\n"
          ]
        },
        {
          "output_type": "stream",
          "name": "stderr",
          "text": [
            "/usr/local/lib/python3.12/dist-packages/sklearn/linear_model/_logistic.py:1256: FutureWarning: 'multi_class' was deprecated in version 1.5 and will be removed in 1.7. Use OneVsRestClassifier(LogisticRegression(..)) instead. Leave it to its default value to avoid this warning.\n",
            "  warnings.warn(\n"
          ]
        }
      ]
    },
    {
      "cell_type": "markdown",
      "source": [
        "This script uses the Iris dataset, which contains three classes of flowers. The  parameter ensures that logistic regression treats the problem as multiple binary classification tasks—one for each class versus the rest."
      ],
      "metadata": {
        "id": "MnPPBUo2HuKp"
      }
    },
    {
      "cell_type": "markdown",
      "source": [
        "**Question 8: Write a Python program to apply GridSearchCV to tune C and penalty hyperparameters for Logistic Regression and print the best parameters and validation accuracy. (Use Dataset from sklearn package)**\n",
        "\n",
        "ANSWER:"
      ],
      "metadata": {
        "id": "ech4Hum8Hwbh"
      }
    },
    {
      "cell_type": "code",
      "source": [
        "from sklearn.datasets import load_iris\n",
        "from sklearn.model_selection import train_test_split, GridSearchCV\n",
        "from sklearn.linear_model import LogisticRegression\n",
        "from sklearn.metrics import accuracy_score\n",
        "\n",
        "# Load data\n",
        "X, y = load_iris(return_X_y=True)\n",
        "\n",
        "# Split data\n",
        "X_train, X_test, y_train, y_test = train_test_split(X, y, test_size=0.2, random_state=42)\n",
        "\n",
        "# Define model and parameter grid\n",
        "model = LogisticRegression(solver='liblinear', max_iter=1000)\n",
        "param_grid = {'C': [0.01, 0.1, 1, 10], 'penalty': ['l1', 'l2']}\n",
        "\n",
        "# Grid search\n",
        "grid = GridSearchCV(model, param_grid, cv=5)\n",
        "grid.fit(X_train, y_train)\n",
        "\n",
        "# Output\n",
        "print(\"Best Parameters:\", grid.best_params_)\n",
        "print(\"Validation Accuracy:\", round(grid.best_score_, 4))\n",
        "print(\"Test Accuracy:\", round(accuracy_score(y_test, grid.predict(X_test)), 4))"
      ],
      "metadata": {
        "colab": {
          "base_uri": "https://localhost:8080/"
        },
        "id": "npu0kG44IgGp",
        "outputId": "616b5c42-7fd6-4f57-afff-7483aeee7385"
      },
      "execution_count": 6,
      "outputs": [
        {
          "output_type": "stream",
          "name": "stdout",
          "text": [
            "Best Parameters: {'C': 10, 'penalty': 'l1'}\n",
            "Validation Accuracy: 0.9583\n",
            "Test Accuracy: 1.0\n"
          ]
        }
      ]
    },
    {
      "cell_type": "markdown",
      "source": [
        "**Question 9: Write a Python program to standardize the features before training Logistic Regression and compare the model's accuracy with and without scaling.\n",
        "(Use Dataset from sklearn package)**\n",
        "\n",
        "ANSWER:"
      ],
      "metadata": {
        "id": "mhbTrin8Imeo"
      }
    },
    {
      "cell_type": "code",
      "source": [
        "from sklearn.datasets import load_iris\n",
        "from sklearn.model_selection import train_test_split\n",
        "from sklearn.linear_model import LogisticRegression\n",
        "from sklearn.preprocessing import StandardScaler\n",
        "from sklearn.metrics import accuracy_score\n",
        "\n",
        "# Load dataset\n",
        "X, y = load_iris(return_X_y=True)\n",
        "\n",
        "# Split data\n",
        "X_train, X_test, y_train, y_test = train_test_split(X, y, test_size=0.2, random_state=42)\n",
        "\n",
        "# Model without scaling\n",
        "model_raw = LogisticRegression(solver='liblinear', max_iter=1000)\n",
        "model_raw.fit(X_train, y_train)\n",
        "y_pred_raw = model_raw.predict(X_test)\n",
        "accuracy_raw = accuracy_score(y_test, y_pred_raw)\n",
        "\n",
        "# Standardize features\n",
        "scaler = StandardScaler()\n",
        "X_train_scaled = scaler.fit_transform(X_train)\n",
        "X_test_scaled = scaler.transform(X_test)\n",
        "\n",
        "# Model with scaled features\n",
        "model_scaled = LogisticRegression(solver='liblinear', max_iter=1000)\n",
        "model_scaled.fit(X_train_scaled, y_train)\n",
        "y_pred_scaled = model_scaled.predict(X_test_scaled)\n",
        "accuracy_scaled = accuracy_score(y_test, y_pred_scaled)\n",
        "\n",
        "# Output comparison\n",
        "print(f\"Accuracy without scaling: {accuracy_raw:.4f}\")\n",
        "print(f\"Accuracy with scaling:    {accuracy_scaled:.4f}\")"
      ],
      "metadata": {
        "colab": {
          "base_uri": "https://localhost:8080/"
        },
        "id": "HW4t1678IvKO",
        "outputId": "4befd406-e449-4c75-abb0-60dcf66d448a"
      },
      "execution_count": 7,
      "outputs": [
        {
          "output_type": "stream",
          "name": "stdout",
          "text": [
            "Accuracy without scaling: 1.0000\n",
            "Accuracy with scaling:    0.9667\n"
          ]
        }
      ]
    },
    {
      "cell_type": "markdown",
      "source": [
        "**Question 10: Imagine you are working at an e-commerce company that wants to predict which customers will respond to a marketing campaign. Given an imbalanced dataset (only 5% of customers respond describe the approach you’d take to build a  Logistic Regression model — including data handling, feature scaling, balancing classes, hyperparameter tuning, and evaluating the model for this real-world business\n",
        "use case.**\n",
        "\n",
        "ANSWER: To build a robust logistic regression model for predicting customer response in an imbalanced e-commerce dataset, the approach must be methodical and tailored to the business context. Here's a structured pipeline:\n",
        "\n",
        "\n",
        "\n",
        "1. Data Handling\n",
        "\n",
        "• \tLoad and Inspect: Begin by loading the dataset into a Pandas DataFrame and inspecting for missing values, outliers, and data types.\n",
        "\n",
        "• \tFeature Engineering: Create meaningful features such as customer tenure, frequency of purchases, average order value, and campaign interaction history.\n",
        "\n",
        "• \tCategorical Encoding: Apply one-hot encoding or ordinal encoding to categorical variables depending on their nature.\n",
        "\n",
        "\n",
        "\n",
        "2. Feature Scaling\n",
        "\n",
        "• \tStandardization: Use  to normalize numerical features. Logistic regression is sensitive to feature magnitudes, especially when regularization is applied.\n",
        "\n",
        "• \tPipeline Integration: Incorporate scaling into a pipeline to ensure consistent preprocessing during cross-validation and deployment.\n",
        "\n",
        "\n",
        "\n",
        "3. Handling Class Imbalance\n",
        "\n",
        "Since only 5% of customers respond, imbalance must be addressed:\n",
        "\n",
        "• \tResampling Techniques:\n",
        "\n",
        "• \tSMOTE (Synthetic Minority Over-sampling Technique): Generates synthetic samples for the minority class.\n",
        "\n",
        "• \tRandom Undersampling: Reduces the majority class to balance the dataset.\n",
        "\n",
        "• \tClass Weights:\n",
        "\n",
        "• \tSet  in  to automatically adjust weights inversely proportional to class frequencies.\n",
        "\n",
        "\n",
        "\n",
        "4. Model Training and Hyperparameter Tuning\n",
        "\n",
        "• \tModel Setup: Use  for binary classification.\n",
        "\n",
        "• \tGridSearchCV:\n",
        "\n",
        "• \tTune  (inverse regularization strength) and  (, ) using cross-validation.\n",
        "\n",
        "• \tInclude  in the grid if not using resampling.\n",
        "\n",
        "• \tPipeline: Combine scaling, resampling (if used), and model into a single pipeline for reproducibility.\n",
        "\n",
        "\n",
        "\n",
        "5. Model Evaluation\n",
        "\n",
        "Standard accuracy is misleading in imbalanced settings. Use:\n",
        "\n",
        "• \tPrecision: Measures correctness of positive predictions.\n",
        "\n",
        "• \tRecall: Measures ability to detect actual responders.\n",
        "\n",
        "• \tF1 Score: Harmonic mean of precision and recall.\n",
        "\n",
        "• \tROC-AUC: Evaluates model’s ability to distinguish between classes across thresholds.\n",
        "\n",
        "• \tConfusion Matrix: Provides insight into false positives and false negatives.\n",
        "\n",
        "\n",
        "\n",
        "6. Business Interpretation\n",
        "\n",
        "• \tThreshold Tuning: Adjust decision threshold to optimize for business goals (e.g., maximize recall to reach more potential responders).\n",
        "\n",
        "• \tLift and Gain Charts: Assess how well the model ranks customers by likelihood to respond.\n",
        "\n",
        "• \tCost-Benefit Analysis: Estimate campaign ROI by comparing predicted responders against actual conversion rates and campaign costs.\n",
        "\n",
        "\n",
        "This approach balances statistical rigor with business relevance, ensuring the model is not only technically sound but also actionable in a real-world marketing context.\n"
      ],
      "metadata": {
        "id": "Epym4g5KI4t7"
      }
    }
  ]
}